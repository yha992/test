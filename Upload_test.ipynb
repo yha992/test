{
 "cells": [
  {
   "cell_type": "markdown",
   "id": "eligible-danger",
   "metadata": {},
   "source": [
    "# Upload test입니다."
   ]
  },
  {
   "cell_type": "markdown",
   "id": "cross-domestic",
   "metadata": {},
   "source": [
    "![그림](https://aiffel.io/wp-content/uploads/2020/05/aiffel_explorer_learn.png)"
   ]
  },
  {
   "cell_type": "code",
   "execution_count": 2,
   "id": "aggressive-technique",
   "metadata": {},
   "outputs": [
    {
     "name": "stdout",
     "output_type": "stream",
     "text": [
      "I love AIFFEL\n"
     ]
    }
   ],
   "source": [
    "print(\"I love AIFFEL\")"
   ]
  }
 ],
 "metadata": {
  "kernelspec": {
   "display_name": "Python 3",
   "language": "python",
   "name": "python3"
  },
  "language_info": {
   "codemirror_mode": {
    "name": "ipython",
    "version": 3
   },
   "file_extension": ".py",
   "mimetype": "text/x-python",
   "name": "python",
   "nbconvert_exporter": "python",
   "pygments_lexer": "ipython3",
   "version": "3.7.9"
  }
 },
 "nbformat": 4,
 "nbformat_minor": 5
}
